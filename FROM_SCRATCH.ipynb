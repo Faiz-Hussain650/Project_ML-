{
  "nbformat": 4,
  "nbformat_minor": 0,
  "metadata": {
    "colab": {
      "provenance": [],
      "authorship_tag": "ABX9TyM6dnyDT6M42Bhkb5GVrKaW",
      "include_colab_link": true
    },
    "kernelspec": {
      "name": "python3",
      "display_name": "Python 3"
    },
    "language_info": {
      "name": "python"
    }
  },
  "cells": [
    {
      "cell_type": "markdown",
      "metadata": {
        "id": "view-in-github",
        "colab_type": "text"
      },
      "source": [
        "<a href=\"https://colab.research.google.com/github/Faiz-Hussain650/Project_ML-/blob/main/FROM_SCRATCH.ipynb\" target=\"_parent\"><img src=\"https://colab.research.google.com/assets/colab-badge.svg\" alt=\"Open In Colab\"/></a>"
      ]
    },
    {
      "cell_type": "markdown",
      "source": [
        "Importing Libs"
      ],
      "metadata": {
        "id": "8x292I-2FAtj"
      }
    },
    {
      "cell_type": "code",
      "execution_count": null,
      "metadata": {
        "id": "hm5Y470r2OPk"
      },
      "outputs": [],
      "source": [
        "import pandas as pd\n",
        "import numpy as np\n",
        "import matplotlib.pyplot as plt\n",
        "import seaborn as sns\n",
        "from statsmodels.tsa.stattools import adfuller\n",
        "from statsmodels.tsa.arima.model import ARIMA\n",
        "from statsmodels.graphics.tsaplots import plot_acf, plot_pacf\n",
        "from sklearn.metrics import mean_squared_error\n",
        "\n"
      ]
    },
    {
      "cell_type": "code",
      "source": [
        "file_grazzanise = pd.read_excel (\"/content/Grazzanise airport.xlsx\")\n",
        "file_treviso = pd.read_excel(\"/content/Trapani airport.xlsx\")\n",
        "file_trapani = pd.read_excel(\"/content/Treviso airport.xlsx\")\n"
      ],
      "metadata": {
        "id": "VeP3dNXsFF3g"
      },
      "execution_count": null,
      "outputs": []
    },
    {
      "cell_type": "code",
      "source": [
        "Grazzanise_Airport = file_grazzanise\n",
        "Treviso_Airport = file_treviso\n",
        "Trapani_Airport = file_trapani"
      ],
      "metadata": {
        "id": "7VDSaVXdF8To"
      },
      "execution_count": null,
      "outputs": []
    },
    {
      "cell_type": "code",
      "source": [
        "Grazzanise_Airport"
      ],
      "metadata": {
        "id": "pG7fD6spGrc9"
      },
      "execution_count": null,
      "outputs": []
    },
    {
      "cell_type": "code",
      "source": [
        "# Display the first few rows of each dataset\n",
        "print(\"Grazzanise Airport Data:\")\n",
        "print(Grazzanise_Airport.head())\n",
        "print(\"\\nTreviso Airport Data:\")\n",
        "print(Treviso_Airport.head())\n",
        "print(\"\\nTrapani Airport Data:\")\n",
        "print(Trapani_Airport.head())"
      ],
      "metadata": {
        "id": "w_qB4OE4GvbW"
      },
      "execution_count": null,
      "outputs": []
    },
    {
      "cell_type": "markdown",
      "source": [
        "Finding the number of missing values for each airport"
      ],
      "metadata": {
        "id": "wnYqFZx-HDN8"
      }
    },
    {
      "cell_type": "code",
      "source": [
        "# Function to print missing values\n",
        "def print_missing_values(data, airport_name):\n",
        "    total_missing = data.isnull().sum().sum()\n",
        "    print(f\"Total missing values in {airport_name}: {total_missing}\")\n",
        "    missing_values_per_column = data.isnull().sum()\n",
        "    print(f\"\\nMissing values per column in {airport_name}:\")\n",
        "    print(missing_values_per_column)\n",
        "\n",
        "print_missing_values(Grazzanise_Airport, \"Grazzanise_Airport\")\n",
        "print_missing_values(Treviso_Airport, \"Treviso_Airport\")\n",
        "print_missing_values(Trapani_Airport, \"Trapani_Airport\")"
      ],
      "metadata": {
        "id": "WngjHHWmGxxS"
      },
      "execution_count": null,
      "outputs": []
    },
    {
      "cell_type": "markdown",
      "source": [
        "Data Cleaning"
      ],
      "metadata": {
        "id": "QFrD8_qeHNUi"
      }
    },
    {
      "cell_type": "code",
      "source": [
        "# Fill 'height_of_base_of_cloud' with mode (most frequent value)\n",
        "mode_value = 800\n",
        "Grazzanise_Airport['height_of_base_of_cloud'].fillna(mode_value, inplace=True)\n",
        "Treviso_Airport['height_of_base_of_cloud'].fillna(mode_value, inplace=True)\n",
        "Trapani_Airport['height_of_base_of_cloud'].fillna(mode_value, inplace=True)\n",
        "\n",
        "# Drop rows with missing values in 'drybulb' and 'dewpoint'\n",
        "Grazzanise_Airport.dropna(subset=['drybulb', 'dewpoint'], inplace=True)\n",
        "Treviso_Airport.dropna(subset=['drybulb', 'dewpoint'], inplace=True)\n",
        "Trapani_Airport.dropna(subset=['drybulb', 'dewpoint'], inplace=True)\n"
      ],
      "metadata": {
        "id": "78BAfKw7HMax"
      },
      "execution_count": null,
      "outputs": []
    },
    {
      "cell_type": "code",
      "source": [
        "print(\"Summary statistics for Grazzanise_Airport:\")\n",
        "print(Grazzanise_Airport.describe())\n",
        "print(\"\\nSummary statistics for Treviso_Airport:\")\n",
        "print(Treviso_Airport.describe())\n",
        "print(\"\\nSummary statistics for Trapani_Airport:\")\n",
        "print(Trapani_Airport.describe())"
      ],
      "metadata": {
        "id": "1QdH2yaoHSyb"
      },
      "execution_count": null,
      "outputs": []
    },
    {
      "cell_type": "code",
      "source": [
        "def remove_column_from_Grazzanise_Airport(column_name):\n",
        "    if column_name in Grazzanise_Airport.columns:\n",
        "        Grazzanise_Airport.drop(column_name, axis=1, inplace=True)\n",
        "        print(f\"Column '{column_name}' removed successfully from Grazzanise_Airport.\")\n",
        "    else:\n",
        "        print(f\"Column '{column_name}' not found in Grazzanise_Airport.\")\n",
        "\n",
        "# Example usage:\n",
        "# Suppose you want to remove the column named 'relative_humidity' from 'Grazzanise_Airport'\n",
        "remove_column_from_Grazzanise_Airport('relative_humidity')"
      ],
      "metadata": {
        "id": "cXcaZ2D2Lm-_"
      },
      "execution_count": null,
      "outputs": []
    },
    {
      "cell_type": "code",
      "source": [
        "def remove_column_from_Trapani_Airport(column_name):\n",
        "    if column_name in Trapani_Airport.columns:\n",
        "        Trapani_Airport.drop(column_name, axis=1, inplace=True)\n",
        "        print(f\"Column '{column_name}' removed successfully from Trapani_Airport.\")\n",
        "    else:\n",
        "        print(f\"Column '{column_name}' not found in Trapani_Airport.\")\n",
        "\n",
        "# Example usage:\n",
        "# Suppose you want to remove the column named 'relative_humidity' from 'Trapani_Airport'\n",
        "remove_column_from_Trapani_Airport('relative_humidity')"
      ],
      "metadata": {
        "id": "UOc2-_4OLshh"
      },
      "execution_count": null,
      "outputs": []
    },
    {
      "cell_type": "code",
      "source": [
        "def remove_column_from_Treviso_Airport(column_name):\n",
        "    if column_name in Treviso_Airport.columns:\n",
        "        Treviso_Airport.drop(column_name, axis=1, inplace=True)\n",
        "        print(f\"Column '{column_name}' removed successfully from Treviso_Airport.\")\n",
        "    else:\n",
        "        print(f\"Column '{column_name}' not found in Treviso_Airport.\")\n",
        "\n",
        "# Example usage:\n",
        "# Suppose you want to remove the column named 'relative_humidity' from 'Treviso_Airport'\n",
        "remove_column_from_Treviso_Airport('relative_humidity')"
      ],
      "metadata": {
        "id": "2he5dAQ2L10f"
      },
      "execution_count": null,
      "outputs": []
    },
    {
      "cell_type": "code",
      "source": [
        "Grazzanise_Airport.height_of_base_of_cloud.value_counts()"
      ],
      "metadata": {
        "id": "czPASeFvMGpx"
      },
      "execution_count": null,
      "outputs": []
    },
    {
      "cell_type": "code",
      "source": [
        "mod_cloud = Grazzanise_Airport['height_of_base_of_cloud'].mode()\n",
        "mod_of_clouds = mod_cloud.fillna(mod_cloud[0],inplace=True)\n",
        "mod_of_clouds"
      ],
      "metadata": {
        "id": "t8V_XSrvMGnb"
      },
      "execution_count": null,
      "outputs": []
    },
    {
      "cell_type": "code",
      "source": [],
      "metadata": {
        "id": "KgANCDcrMGkX"
      },
      "execution_count": null,
      "outputs": []
    },
    {
      "cell_type": "code",
      "source": [],
      "metadata": {
        "id": "_1H53WKUMGh-"
      },
      "execution_count": null,
      "outputs": []
    },
    {
      "cell_type": "code",
      "source": [],
      "metadata": {
        "id": "9Y_wmPesMGfO"
      },
      "execution_count": null,
      "outputs": []
    },
    {
      "cell_type": "code",
      "source": [],
      "metadata": {
        "id": "NMWE_94MMGcP"
      },
      "execution_count": null,
      "outputs": []
    },
    {
      "cell_type": "code",
      "source": [],
      "metadata": {
        "id": "VVOXtuQjMGZg"
      },
      "execution_count": null,
      "outputs": []
    },
    {
      "cell_type": "code",
      "source": [],
      "metadata": {
        "id": "_-d4CvjSMGRn"
      },
      "execution_count": null,
      "outputs": []
    }
  ]
}